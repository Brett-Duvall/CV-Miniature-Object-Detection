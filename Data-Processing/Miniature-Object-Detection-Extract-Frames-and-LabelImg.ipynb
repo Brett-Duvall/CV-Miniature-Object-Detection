{
 "cells": [
  {
   "cell_type": "markdown",
   "id": "7c9ab8e7-22a8-4834-a9ce-ca800c324109",
   "metadata": {},
   "source": [
    "## Brett Duvall\n",
    "DATA 690 AI"
   ]
  },
  {
   "cell_type": "markdown",
   "id": "042bb73c-b9eb-4a5c-a5a3-07c9c6f6db04",
   "metadata": {},
   "source": [
    "## video was taken with webcam and split into frames for anotation"
   ]
  },
  {
   "cell_type": "code",
   "execution_count": 3,
   "id": "bb0afb00-f215-4da1-97fc-865e602238c1",
   "metadata": {},
   "outputs": [],
   "source": [
    "import cv2\n",
    "import os"
   ]
  },
  {
   "cell_type": "code",
   "execution_count": 11,
   "id": "7f536490-6bc9-4d3c-8344-631a3f8a314c",
   "metadata": {},
   "outputs": [
    {
     "name": "stdout",
     "output_type": "stream",
     "text": [
      "Extracted 2422 frames. Saved in '720p/'\n"
     ]
    },
    {
     "data": {
      "text/plain": [
       "2422"
      ]
     },
     "execution_count": 11,
     "metadata": {},
     "output_type": "execute_result"
    }
   ],
   "source": [
    "def extract_frames(video_path, output_dir=None):\n",
    "\t\"\"\"\n",
    "\tExtracts frames from a given video file and saves them as images.\n",
    "\n",
    "\tParameters:\n",
    "\t- video_path (str): Path to the input video file.\n",
    "\t- output_dir (str, optional): Directory to save frames. Defaults to video name (without extension).\n",
    "\n",
    "\tReturns:\n",
    "\t- int: Total number of frames extracted.\n",
    "\t\"\"\"\n",
    "\t# Ensure video file exists\n",
    "\tif not os.path.exists(video_path):\n",
    "\t\tprint(f\"Error: File '{video_path}' not found.\")\n",
    "\t\treturn 0\n",
    "\n",
    "\t# Create output directory based on video filename\n",
    "\tvideo_name = os.path.splitext(os.path.basename(video_path))[0]\n",
    "\toutput_dir = output_dir or video_name  # Use custom directory or default name\n",
    "\n",
    "\tos.makedirs(output_dir, exist_ok=True)  # Create directory if needed\n",
    "\n",
    "\t# Open video\n",
    "\tcap = cv2.VideoCapture(video_path)\n",
    "\tframe_count = 0\n",
    "\n",
    "\twhile cap.isOpened():\n",
    "\t\tret, frame = cap.read()\n",
    "\t\tif not ret:\n",
    "\t\t\tbreak  # Exit loop if no frame is returned\n",
    "\n",
    "\t\t# Save frame as image\n",
    "\t\tframe_filename = os.path.join(output_dir, f\"720p_frame_{frame_count:04d}.jpg\")\n",
    "\t\tcv2.imwrite(frame_filename, frame)\n",
    "\t\tframe_count += 1\n",
    "\n",
    "\tcap.release()\n",
    "\tprint(f\"Extracted {frame_count} frames. Saved in '{output_dir}/'\")\n",
    "\treturn frame_count\n",
    "\n",
    "\n",
    "video_file = \"videos/720p.mp4\"  # Choose video filename\n",
    "extract_frames(video_file)\n"
   ]
  },
  {
   "cell_type": "markdown",
   "id": "93ea3834-9e7d-4f7e-b4af-c5662e5623bf",
   "metadata": {},
   "source": [
    "### labelImg was used for frame annotation.  "
   ]
  },
  {
   "cell_type": "code",
   "execution_count": null,
   "id": "d3a567f1-f304-42d8-8e7e-b46d3c720046",
   "metadata": {},
   "outputs": [],
   "source": [
    "!labelImg \n"
   ]
  },
  {
   "cell_type": "code",
   "execution_count": null,
   "id": "a5b35895-326c-4dd0-b972-e3421e342f9d",
   "metadata": {},
   "outputs": [],
   "source": []
  }
 ],
 "metadata": {
  "kernelspec": {
   "display_name": "Python [conda env:base] *",
   "language": "python",
   "name": "conda-base-py"
  },
  "language_info": {
   "codemirror_mode": {
    "name": "ipython",
    "version": 3
   },
   "file_extension": ".py",
   "mimetype": "text/x-python",
   "name": "python",
   "nbconvert_exporter": "python",
   "pygments_lexer": "ipython3",
   "version": "3.12.3"
  }
 },
 "nbformat": 4,
 "nbformat_minor": 5
}
