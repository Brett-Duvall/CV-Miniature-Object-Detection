{
 "cells": [
  {
   "cell_type": "markdown",
   "id": "74700d90-7988-46a7-899f-d60ee61df42a",
   "metadata": {},
   "source": [
    "## Brett Duvall\n",
    "DATA 690"
   ]
  },
  {
   "cell_type": "markdown",
   "id": "7a3abf9f-7abb-4695-b667-d261002fb671",
   "metadata": {},
   "source": [
    "Splitting the image dataset into train and test splits"
   ]
  },
  {
   "cell_type": "code",
   "execution_count": 3,
   "id": "bff81f03-0a1c-4e01-ac2d-94672e04a38c",
   "metadata": {},
   "outputs": [
    {
     "name": "stdout",
     "output_type": "stream",
     "text": [
      "Collecting yolosplitter\n",
      "  Downloading yolosplitter-0.5.0.0-py3-none-any.whl.metadata (3.9 kB)\n",
      "Requirement already satisfied: pandas in c:\\users\\brett\\anaconda3\\lib\\site-packages (from yolosplitter) (2.2.2)\n",
      "Requirement already satisfied: tqdm in c:\\users\\brett\\anaconda3\\lib\\site-packages (from yolosplitter) (4.66.5)\n",
      "Requirement already satisfied: PyYAML in c:\\users\\brett\\anaconda3\\lib\\site-packages (from yolosplitter) (6.0.1)\n",
      "Requirement already satisfied: numpy>=1.26.0 in c:\\users\\brett\\anaconda3\\lib\\site-packages (from pandas->yolosplitter) (1.26.4)\n",
      "Requirement already satisfied: python-dateutil>=2.8.2 in c:\\users\\brett\\anaconda3\\lib\\site-packages (from pandas->yolosplitter) (2.9.0.post0)\n",
      "Requirement already satisfied: pytz>=2020.1 in c:\\users\\brett\\anaconda3\\lib\\site-packages (from pandas->yolosplitter) (2024.1)\n",
      "Requirement already satisfied: tzdata>=2022.7 in c:\\users\\brett\\anaconda3\\lib\\site-packages (from pandas->yolosplitter) (2023.3)\n",
      "Requirement already satisfied: colorama in c:\\users\\brett\\anaconda3\\lib\\site-packages (from tqdm->yolosplitter) (0.4.6)\n",
      "Requirement already satisfied: six>=1.5 in c:\\users\\brett\\anaconda3\\lib\\site-packages (from python-dateutil>=2.8.2->pandas->yolosplitter) (1.16.0)\n",
      "Downloading yolosplitter-0.5.0.0-py3-none-any.whl (5.2 kB)\n",
      "Installing collected packages: yolosplitter\n",
      "Successfully installed yolosplitter-0.5.0.0\n"
     ]
    }
   ],
   "source": [
    "!pip install yolosplitter"
   ]
  },
  {
   "cell_type": "code",
   "execution_count": 1,
   "id": "03edfb0d-96d8-4c8a-b812-0bb115eb0fed",
   "metadata": {},
   "outputs": [
    {
     "data": {
      "text/html": [
       "<div>\n",
       "<style scoped>\n",
       "    .dataframe tbody tr th:only-of-type {\n",
       "        vertical-align: middle;\n",
       "    }\n",
       "\n",
       "    .dataframe tbody tr th {\n",
       "        vertical-align: top;\n",
       "    }\n",
       "\n",
       "    .dataframe thead th {\n",
       "        text-align: right;\n",
       "    }\n",
       "</style>\n",
       "<table border=\"1\" class=\"dataframe\">\n",
       "  <thead>\n",
       "    <tr style=\"text-align: right;\">\n",
       "      <th></th>\n",
       "      <th>images</th>\n",
       "      <th>labels</th>\n",
       "      <th>annots</th>\n",
       "      <th>cls_names</th>\n",
       "      <th>set</th>\n",
       "      <th>new_set</th>\n",
       "    </tr>\n",
       "  </thead>\n",
       "  <tbody>\n",
       "    <tr>\n",
       "      <th>0</th>\n",
       "      <td>01_45deg_frame_0000.jpg</td>\n",
       "      <td>01_45deg_frame_0000.txt</td>\n",
       "      <td>[[0, [0.512153, 0.556944, 0.134028, 0.173148]]]</td>\n",
       "      <td>[0]</td>\n",
       "      <td></td>\n",
       "      <td>test</td>\n",
       "    </tr>\n",
       "    <tr>\n",
       "      <th>1</th>\n",
       "      <td>01_45deg_frame_0001.jpg</td>\n",
       "      <td>01_45deg_frame_0001.txt</td>\n",
       "      <td>[[0, [0.512153, 0.556944, 0.134028, 0.173148]]]</td>\n",
       "      <td>[0]</td>\n",
       "      <td></td>\n",
       "      <td>val</td>\n",
       "    </tr>\n",
       "    <tr>\n",
       "      <th>2</th>\n",
       "      <td>01_45deg_frame_0002.jpg</td>\n",
       "      <td>01_45deg_frame_0002.txt</td>\n",
       "      <td>[[0, [0.512153, 0.556944, 0.134028, 0.173148]]]</td>\n",
       "      <td>[0]</td>\n",
       "      <td></td>\n",
       "      <td>val</td>\n",
       "    </tr>\n",
       "    <tr>\n",
       "      <th>3</th>\n",
       "      <td>01_45deg_frame_0003.jpg</td>\n",
       "      <td>01_45deg_frame_0003.txt</td>\n",
       "      <td>[[0, [0.512153, 0.556944, 0.134028, 0.173148]]]</td>\n",
       "      <td>[0]</td>\n",
       "      <td></td>\n",
       "      <td>train</td>\n",
       "    </tr>\n",
       "    <tr>\n",
       "      <th>4</th>\n",
       "      <td>01_45deg_frame_0004.jpg</td>\n",
       "      <td>01_45deg_frame_0004.txt</td>\n",
       "      <td>[[0, [0.512153, 0.556944, 0.134028, 0.173148]]]</td>\n",
       "      <td>[0]</td>\n",
       "      <td></td>\n",
       "      <td>train</td>\n",
       "    </tr>\n",
       "    <tr>\n",
       "      <th>...</th>\n",
       "      <td>...</td>\n",
       "      <td>...</td>\n",
       "      <td>...</td>\n",
       "      <td>...</td>\n",
       "      <td>...</td>\n",
       "      <td>...</td>\n",
       "    </tr>\n",
       "    <tr>\n",
       "      <th>16762</th>\n",
       "      <td>18_top_frame_0375.jpg</td>\n",
       "      <td>18_top_frame_0375.txt</td>\n",
       "      <td>[[17, [0.490278, 0.512037, 0.172222, 0.214815]]]</td>\n",
       "      <td>[17]</td>\n",
       "      <td></td>\n",
       "      <td>val</td>\n",
       "    </tr>\n",
       "    <tr>\n",
       "      <th>16763</th>\n",
       "      <td>18_top_frame_0376.jpg</td>\n",
       "      <td>18_top_frame_0376.txt</td>\n",
       "      <td>[[17, [0.490278, 0.512037, 0.172222, 0.214815]]]</td>\n",
       "      <td>[17]</td>\n",
       "      <td></td>\n",
       "      <td>train</td>\n",
       "    </tr>\n",
       "    <tr>\n",
       "      <th>16764</th>\n",
       "      <td>18_top_frame_0377.jpg</td>\n",
       "      <td>18_top_frame_0377.txt</td>\n",
       "      <td>[[17, [0.490278, 0.512037, 0.172222, 0.214815]]]</td>\n",
       "      <td>[17]</td>\n",
       "      <td></td>\n",
       "      <td>train</td>\n",
       "    </tr>\n",
       "    <tr>\n",
       "      <th>16765</th>\n",
       "      <td>18_top_frame_0378.jpg</td>\n",
       "      <td>18_top_frame_0378.txt</td>\n",
       "      <td>[[17, [0.490278, 0.512037, 0.172222, 0.214815]]]</td>\n",
       "      <td>[17]</td>\n",
       "      <td></td>\n",
       "      <td>val</td>\n",
       "    </tr>\n",
       "    <tr>\n",
       "      <th>16766</th>\n",
       "      <td>18_top_frame_0379.jpg</td>\n",
       "      <td>18_top_frame_0379.txt</td>\n",
       "      <td>[[17, [0.490278, 0.512037, 0.172222, 0.214815]]]</td>\n",
       "      <td>[17]</td>\n",
       "      <td></td>\n",
       "      <td>val</td>\n",
       "    </tr>\n",
       "  </tbody>\n",
       "</table>\n",
       "<p>16767 rows × 6 columns</p>\n",
       "</div>"
      ],
      "text/plain": [
       "                        images                   labels  \\\n",
       "0      01_45deg_frame_0000.jpg  01_45deg_frame_0000.txt   \n",
       "1      01_45deg_frame_0001.jpg  01_45deg_frame_0001.txt   \n",
       "2      01_45deg_frame_0002.jpg  01_45deg_frame_0002.txt   \n",
       "3      01_45deg_frame_0003.jpg  01_45deg_frame_0003.txt   \n",
       "4      01_45deg_frame_0004.jpg  01_45deg_frame_0004.txt   \n",
       "...                        ...                      ...   \n",
       "16762    18_top_frame_0375.jpg    18_top_frame_0375.txt   \n",
       "16763    18_top_frame_0376.jpg    18_top_frame_0376.txt   \n",
       "16764    18_top_frame_0377.jpg    18_top_frame_0377.txt   \n",
       "16765    18_top_frame_0378.jpg    18_top_frame_0378.txt   \n",
       "16766    18_top_frame_0379.jpg    18_top_frame_0379.txt   \n",
       "\n",
       "                                                 annots cls_names set new_set  \n",
       "0       [[0, [0.512153, 0.556944, 0.134028, 0.173148]]]       [0]        test  \n",
       "1       [[0, [0.512153, 0.556944, 0.134028, 0.173148]]]       [0]         val  \n",
       "2       [[0, [0.512153, 0.556944, 0.134028, 0.173148]]]       [0]         val  \n",
       "3       [[0, [0.512153, 0.556944, 0.134028, 0.173148]]]       [0]       train  \n",
       "4       [[0, [0.512153, 0.556944, 0.134028, 0.173148]]]       [0]       train  \n",
       "...                                                 ...       ...  ..     ...  \n",
       "16762  [[17, [0.490278, 0.512037, 0.172222, 0.214815]]]      [17]         val  \n",
       "16763  [[17, [0.490278, 0.512037, 0.172222, 0.214815]]]      [17]       train  \n",
       "16764  [[17, [0.490278, 0.512037, 0.172222, 0.214815]]]      [17]       train  \n",
       "16765  [[17, [0.490278, 0.512037, 0.172222, 0.214815]]]      [17]         val  \n",
       "16766  [[17, [0.490278, 0.512037, 0.172222, 0.214815]]]      [17]         val  \n",
       "\n",
       "[16767 rows x 6 columns]"
      ]
     },
     "execution_count": 1,
     "metadata": {},
     "output_type": "execute_result"
    }
   ],
   "source": [
    "from yolosplitter import YoloSplitter\n",
    "\n",
    "ys = YoloSplitter(imgFormat=['.jpg', '.jpeg', '.png'], labelFormat=['.txt'] )\n",
    "\n",
    "# If you have yolo-format dataset already on the system\n",
    "#df = ys.from_yolo_dir(input_dir=\"yolo_dataset\",ratio=(0.7,0.2,0.1),return_df=True)\n",
    "\n",
    "# If you have mixed Images and Labels in the same directory\n",
    "df = ys.from_mixed_dir(input_dir=\"data_combined\",ratio=(0.7,0.2,0.1),return_df=True)\n",
    "\n",
    "# To see train/test/val split size, total error files, all class names from annotation files\n",
    "ys.info()\n",
    "\n",
    "# !!! changed show_dataframe to get_dataframe()\n",
    "# to see dataframe\n",
    "ys.get_dataframe()"
   ]
  },
  {
   "cell_type": "code",
   "execution_count": 3,
   "id": "19aec6e7-560f-4b62-bd72-7afc346601e5",
   "metadata": {},
   "outputs": [
    {
     "name": "stderr",
     "output_type": "stream",
     "text": [
      "100%|████████████████████████████████████████████████████████████████████████████| 16767/16767 [05:03<00:00, 55.20it/s]\n"
     ]
    }
   ],
   "source": [
    "ys.save_split(output_dir=\"orig_and_1080p_split\")"
   ]
  },
  {
   "cell_type": "code",
   "execution_count": 5,
   "id": "09be9169-3c74-4181-ba5f-d60237d4e529",
   "metadata": {},
   "outputs": [
    {
     "data": {
      "text/plain": [
       "{'train': 22, 'val': 6, 'test': 3, 'cls_names': {0, 2, 4, 6, 7}, 'errors': 0}"
      ]
     },
     "execution_count": 5,
     "metadata": {},
     "output_type": "execute_result"
    }
   ],
   "source": [
    "# Use ys.show_show_errors to show filename which have errors\n",
    "ys.show_errors()\n",
    "\n",
    "# Use ys.show_dataframe to see dataframe created on the dataset\n",
    "ys.get_dataframe()\n",
    "\n",
    "# To see train/test/val split size, total error files, all class names from annotation files\n",
    "ys.info()"
   ]
  },
  {
   "cell_type": "code",
   "execution_count": null,
   "id": "26c5f6dd-03ef-44d2-ae2e-9c26f9c77f88",
   "metadata": {},
   "outputs": [],
   "source": []
  }
 ],
 "metadata": {
  "kernelspec": {
   "display_name": "Python [conda env:base] *",
   "language": "python",
   "name": "conda-base-py"
  },
  "language_info": {
   "codemirror_mode": {
    "name": "ipython",
    "version": 3
   },
   "file_extension": ".py",
   "mimetype": "text/x-python",
   "name": "python",
   "nbconvert_exporter": "python",
   "pygments_lexer": "ipython3",
   "version": "3.12.3"
  }
 },
 "nbformat": 4,
 "nbformat_minor": 5
}
