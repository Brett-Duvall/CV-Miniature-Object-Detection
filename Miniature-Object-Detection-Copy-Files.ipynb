{
 "cells": [
  {
   "cell_type": "markdown",
   "id": "6e1de8ca-3c13-409e-be8d-b1714bccbd5d",
   "metadata": {},
   "source": [
    "# Brett Duvall\n",
    "DATA 690 AI"
   ]
  },
  {
   "cell_type": "markdown",
   "id": "344ba39c-1431-4bb9-a6d8-deb195a9e277",
   "metadata": {},
   "source": [
    "### The second video, with all minitures in the same frame, was taken at 1080p video at 60 frames per second. There were too many similar frames.  Cut frame count from 7,000 to 780.  This code was found using Google's AI, which I have no idea how to cite."
   ]
  },
  {
   "cell_type": "code",
   "execution_count": 8,
   "id": "c6966fc6-ba2f-4cb3-8d14-d82a1c6dcc1f",
   "metadata": {},
   "outputs": [],
   "source": [
    "import os\n",
    "import shutil\n",
    "\n",
    "def copy_every_ninth_image(source_folder, destination_folder):\n",
    "    \"\"\"Copies every 9th image file from the source folder to the destination folder.\n",
    "\n",
    "    Args:\n",
    "        source_folder: Path to the folder containing the images.\n",
    "        destination_folder: Path to the folder where the selected images will be copied.\n",
    "    \"\"\"\n",
    "\n",
    "    if not os.path.exists(destination_folder):\n",
    "        os.makedirs(destination_folder)\n",
    "\n",
    "    image_files = [f for f in os.listdir(source_folder) if f.lower().endswith(('.png', '.jpg', '.jpeg', '.gif', '.bmp'))]\n",
    "\n",
    "    for i, image_file in enumerate(image_files):\n",
    "        if (i + 1) % 9 == 0:\n",
    "            source_path = os.path.join(source_folder, image_file)\n",
    "            destination_path = os.path.join(destination_folder, image_file)\n",
    "            shutil.copy2(source_path, destination_path)\n",
    "            #print(f\"Copied: {image_file} to {destination_folder}\")\n",
    "\n",
    "if __name__ == \"__main__\":\n",
    "    source_folder = \"./1080p-60Full\"  # Replace with the actual path to your source folder\n",
    "    destination_folder = \"./1080p\"  # Replace with the desired destination folder\n",
    "    copy_every_third_image(source_folder, destination_folder)"
   ]
  },
  {
   "cell_type": "code",
   "execution_count": null,
   "id": "66453018-6124-419d-84c0-aef044721127",
   "metadata": {},
   "outputs": [],
   "source": []
  }
 ],
 "metadata": {
  "kernelspec": {
   "display_name": "Python [conda env:base] *",
   "language": "python",
   "name": "conda-base-py"
  },
  "language_info": {
   "codemirror_mode": {
    "name": "ipython",
    "version": 3
   },
   "file_extension": ".py",
   "mimetype": "text/x-python",
   "name": "python",
   "nbconvert_exporter": "python",
   "pygments_lexer": "ipython3",
   "version": "3.12.3"
  }
 },
 "nbformat": 4,
 "nbformat_minor": 5
}
