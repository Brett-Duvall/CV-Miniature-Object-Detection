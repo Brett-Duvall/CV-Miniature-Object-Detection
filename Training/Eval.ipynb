{
 "cells": [
  {
   "cell_type": "markdown",
   "id": "ee7fd0cd-517a-4ec4-bbcb-bfe726f885bb",
   "metadata": {},
   "source": [
    "## Brett Duvall\n",
    "DATA 690 AI"
   ]
  },
  {
   "cell_type": "code",
   "execution_count": 1,
   "id": "7be34e20-3427-4ddd-b359-599a3af85e27",
   "metadata": {},
   "outputs": [
    {
     "name": "stdout",
     "output_type": "stream",
     "text": [
      "Ultralytics 8.3.111  Python-3.12.3 torch-2.6.0+cu126 CUDA:0 (NVIDIA GeForce RTX 4090, 24564MiB)\n",
      "YOLO11n summary (fused): 100 layers, 2,585,662 parameters, 0 gradients, 6.3 GFLOPs\n",
      "\u001b[34m\u001b[1mval: \u001b[0mFast image access  (ping: 0.10.0 ms, read: 19.613.8 MB/s, size: 325.0 KB)\n"
     ]
    },
    {
     "name": "stderr",
     "output_type": "stream",
     "text": [
      "\u001b[34m\u001b[1mval: \u001b[0mScanning D:\\JUPYTER NOTEBOOKS\\Spring 2025\\DATA 690 Artificial Intelligence\\Project\\datasets\\orig_and_1080p_split\\v\u001b[0m\n",
      "                 Class     Images  Instances      Box(P          R      mAP50  mAP50-95): 100%|██████████| 210/210 [00:\n"
     ]
    },
    {
     "name": "stdout",
     "output_type": "stream",
     "text": [
      "                   all       3353       5733      0.996      0.996      0.995      0.833\n",
      "                     0        352        352      0.998      0.994      0.995      0.818\n",
      "                     1        295        295      0.996      0.997      0.995      0.796\n",
      "                     2        286        286      0.998          1      0.995       0.81\n",
      "                     3        328        328      0.997      0.998      0.995      0.809\n",
      "                     4        300        300      0.995          1      0.995      0.822\n",
      "                     5        294        434      0.996      0.998      0.995      0.766\n",
      "                     6        304        304      0.989      0.987      0.993      0.812\n",
      "                     7        311        311      0.999          1      0.995      0.822\n",
      "                     8        325        325      0.993      0.997      0.995      0.825\n",
      "                     9        342        342      0.999          1      0.995      0.875\n",
      "                    10        158        158      0.996          1      0.995      0.925\n",
      "                    11        331        331      0.998          1      0.995      0.886\n",
      "                    12        335        335      0.999      0.979      0.992      0.817\n",
      "                    13        320        320      0.998          1      0.995      0.844\n",
      "                    14        303        303      0.985      0.977      0.992      0.799\n",
      "                    15        324        324      0.996          1      0.995      0.828\n",
      "                    16        346        346      0.999          1      0.995      0.861\n",
      "                    17        339        339      0.998      0.997      0.995       0.87\n",
      "Speed: 0.1ms preprocess, 1.3ms inference, 0.0ms loss, 0.5ms postprocess per image\n",
      "Results saved to \u001b[1mruns\\detect\\val\u001b[0m\n"
     ]
    },
    {
     "data": {
      "text/plain": [
       "array([    0.81785,     0.79581,     0.80961,     0.80929,       0.822,      0.7662,     0.81173,     0.82225,     0.82499,     0.87508,     0.92463,     0.88624,     0.81739,      0.8445,     0.79938,     0.82809,     0.86073,     0.87045])"
      ]
     },
     "execution_count": 1,
     "metadata": {},
     "output_type": "execute_result"
    }
   ],
   "source": [
    "from ultralytics import YOLO\n",
    "\n",
    "# load a custom model\n",
    "model = YOLO(\"best.pt\")  \n",
    "\n",
    "# Validate the model\n",
    "metrics = model.val()  # no arguments needed, dataset and settings remembered\n",
    "metrics.box.map  # map50-95\n",
    "metrics.box.map50  # map50\n",
    "metrics.box.map75  # map75\n",
    "metrics.box.maps  # a list contains map50-95 of each category"
   ]
  },
  {
   "cell_type": "code",
   "execution_count": null,
   "id": "3c5069e5-860e-4af5-afef-e67d24103a7a",
   "metadata": {},
   "outputs": [],
   "source": []
  }
 ],
 "metadata": {
  "kernelspec": {
   "display_name": "Python [conda env:base] *",
   "language": "python",
   "name": "conda-base-py"
  },
  "language_info": {
   "codemirror_mode": {
    "name": "ipython",
    "version": 3
   },
   "file_extension": ".py",
   "mimetype": "text/x-python",
   "name": "python",
   "nbconvert_exporter": "python",
   "pygments_lexer": "ipython3",
   "version": "3.12.3"
  }
 },
 "nbformat": 4,
 "nbformat_minor": 5
}
