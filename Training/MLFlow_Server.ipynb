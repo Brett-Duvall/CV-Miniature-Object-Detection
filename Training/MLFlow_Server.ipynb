{
 "cells": [
  {
   "cell_type": "markdown",
   "id": "ec5f1223-d0f4-46dd-9733-bf72605b6042",
   "metadata": {},
   "source": [
    "## Brett Duvall\n",
    "DATA 690 AI"
   ]
  },
  {
   "cell_type": "markdown",
   "id": "70734b79-6ef5-451c-a467-75eb0f290b08",
   "metadata": {},
   "source": [
    "This runs the MLFlow server separately from the inference notebook.  "
   ]
  },
  {
   "cell_type": "code",
   "execution_count": 1,
   "id": "ff21e762-4c4e-477f-a1cb-e847038d2c88",
   "metadata": {},
   "outputs": [],
   "source": [
    "import mlflow"
   ]
  },
  {
   "cell_type": "code",
   "execution_count": null,
   "id": "f7bea1c6-5624-49e0-8313-61e931ff1a59",
   "metadata": {},
   "outputs": [],
   "source": [
    "!mlflow server --backend-store-uri runs/mlflow"
   ]
  },
  {
   "cell_type": "code",
   "execution_count": 5,
   "id": "313b569d-f4c8-4d2d-a8ea-ef3e66a32b5c",
   "metadata": {},
   "outputs": [
    {
     "name": "stderr",
     "output_type": "stream",
     "text": [
      "'grep' is not recognized as an internal or external command,\n",
      "operable program or batch file.\n"
     ]
    }
   ],
   "source": [
    "!ps aux | grep 'mlflow' | grep -v 'grep' | awk '{print $2}' | xargs kill -9"
   ]
  },
  {
   "cell_type": "code",
   "execution_count": null,
   "id": "1f3beefb-78f0-4aa2-8328-96ef771c736b",
   "metadata": {},
   "outputs": [],
   "source": []
  }
 ],
 "metadata": {
  "kernelspec": {
   "display_name": "Python [conda env:base] *",
   "language": "python",
   "name": "conda-base-py"
  },
  "language_info": {
   "codemirror_mode": {
    "name": "ipython",
    "version": 3
   },
   "file_extension": ".py",
   "mimetype": "text/x-python",
   "name": "python",
   "nbconvert_exporter": "python",
   "pygments_lexer": "ipython3",
   "version": "3.12.3"
  }
 },
 "nbformat": 4,
 "nbformat_minor": 5
}
